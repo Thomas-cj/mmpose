{
 "cells": [
  {
   "cell_type": "code",
   "execution_count": 2,
   "id": "70716eae",
   "metadata": {},
   "outputs": [
    {
     "name": "stdout",
     "output_type": "stream",
     "text": [
      "Mean: [25.68008436 74.64080128 76.65044621]\n",
      "Std: [41.30127197 84.055176   84.67723933]\n"
     ]
    }
   ],
   "source": [
    "import cv2\n",
    "import numpy as np\n",
    "import os\n",
    "\n",
    "def calculate_mean_std(image_folder):\n",
    "    \"\"\"Calculates the mean and std of pixel values in a folder of images.\"\"\"\n",
    "\n",
    "    image_files = [f for f in os.listdir(image_folder) if f.lower().endswith(('.png', '.jpg', '.jpeg'))]\n",
    "    pixels = []\n",
    "\n",
    "    for image_file in image_files:\n",
    "        image_path = os.path.join(image_folder, image_file)\n",
    "        image = cv2.imread(image_path)\n",
    "        if image is None:\n",
    "            continue #skip any invalid images.\n",
    "        image = cv2.cvtColor(image, cv2.COLOR_BGR2RGB) #convert to RGB\n",
    "        pixels.append(image.reshape(-1, 3)) #flatten to list of pixels\n",
    "\n",
    "    pixels = np.concatenate(pixels, axis=0)\n",
    "    mean = np.mean(pixels, axis=0)\n",
    "    std = np.std(pixels, axis=0)\n",
    "\n",
    "    return mean, std\n",
    "\n",
    "# Replace 'path/to/your/images' with the actual path to your image folder\n",
    "image_folder = r'..\\data\\SwimDK_small\\SwimDK_small_train'\n",
    "mean, std = calculate_mean_std(image_folder)\n",
    "\n",
    "print(f\"Mean: {mean}\")\n",
    "print(f\"Std: {std}\")"
   ]
  },
  {
   "cell_type": "code",
   "execution_count": null,
   "id": "cd5af4a9",
   "metadata": {},
   "outputs": [],
   "source": []
  }
 ],
 "metadata": {
  "kernelspec": {
   "display_name": "rtmpose",
   "language": "python",
   "name": "python3"
  },
  "language_info": {
   "codemirror_mode": {
    "name": "ipython",
    "version": 3
   },
   "file_extension": ".py",
   "mimetype": "text/x-python",
   "name": "python",
   "nbconvert_exporter": "python",
   "pygments_lexer": "ipython3",
   "version": "3.9.21"
  }
 },
 "nbformat": 4,
 "nbformat_minor": 5
}
