{
 "cells": [
  {
   "cell_type": "code",
   "execution_count": 16,
   "id": "d52fa543",
   "metadata": {},
   "outputs": [],
   "source": [
    "import json\n",
    "\n",
    "def convert_and_save_data(input_filepath, output_filename):\n",
    "    \"\"\"\n",
    "    Converts the input data to the desired output format and saves it to a JSON file.\n",
    "\n",
    "    Args:\n",
    "        data (dict): The input data dictionary.\n",
    "        output_filename (str): The name of the output JSON file.\n",
    "    \"\"\"\n",
    "    with open(input_filepath, 'r') as f:\n",
    "            data = json.load(f)\n",
    "    output_list = []\n",
    "    for annotation in data['annotations']:\n",
    "        image_id = annotation['image_id']\n",
    "        image_data = next(\n",
    "            (img for img in data['images'] if img['id'] == image_id), None\n",
    "        )\n",
    "\n",
    "        if image_data and 'keypoints' in annotation: \n",
    "            joints = []\n",
    "            joints_vis = []\n",
    "            for i in range(0, len(annotation['keypoints']), 3):\n",
    "                x = annotation['keypoints'][i]\n",
    "                y = annotation['keypoints'][i + 1]\n",
    "                v = annotation['keypoints'][i + 2] - 1\n",
    "                joints.append([x, y])\n",
    "                joints_vis.append(v)\n",
    "\n",
    "            center_x = annotation[\"bbox\"][0] + annotation[\"bbox\"][2] / 2\n",
    "            center_y = annotation[\"bbox\"][1] + annotation[\"bbox\"][3] / 2\n",
    "            scale = (center_x - annotation[\"bbox\"][0])/100\n",
    "            \n",
    "            output_list.append(\n",
    "                {\n",
    "                    \"joints_vis\": joints_vis,\n",
    "                    \"joints\": joints,\n",
    "                    \"image\": image_data['file_name'],\n",
    "                    \"scale\": scale,\n",
    "                    \"center\": [center_x, center_y],\n",
    "                }\n",
    "            )\n",
    "        else:\n",
    "            print(f\"Warning: Annotation with image_id {image_id} missing 'keypoints' or invalid data. Skipped.\")\n",
    "    with open(output_filename, 'w') as f:\n",
    "        json.dump(output_list, f, indent=2)\n",
    "\n",
    "    print(f\"Data saved to {output_filename}\")"
   ]
  },
  {
   "cell_type": "code",
   "execution_count": 17,
   "id": "05cade5d",
   "metadata": {},
   "outputs": [],
   "source": [
    "input_filepath = r\"..\\data\\SwimDK_small\\annotations\\SwimDK_small_train.json\"\n",
    "output_filename = r\"mpii_train.json\""
   ]
  },
  {
   "cell_type": "code",
   "execution_count": 18,
   "id": "9d776ca3",
   "metadata": {},
   "outputs": [
    {
     "name": "stdout",
     "output_type": "stream",
     "text": [
      "Warning: Annotation with image_id 235 missing 'keypoints' or invalid data. Skipped.\n",
      "Data saved to mpii_train.json\n"
     ]
    }
   ],
   "source": [
    "convert_and_save_data(input_filepath, output_filename)"
   ]
  },
  {
   "cell_type": "code",
   "execution_count": null,
   "id": "fc6d7f92",
   "metadata": {},
   "outputs": [],
   "source": []
  }
 ],
 "metadata": {
  "kernelspec": {
   "display_name": "rtmpose",
   "language": "python",
   "name": "python3"
  },
  "language_info": {
   "codemirror_mode": {
    "name": "ipython",
    "version": 3
   },
   "file_extension": ".py",
   "mimetype": "text/x-python",
   "name": "python",
   "nbconvert_exporter": "python",
   "pygments_lexer": "ipython3",
   "version": "3.9.21"
  }
 },
 "nbformat": 4,
 "nbformat_minor": 5
}
